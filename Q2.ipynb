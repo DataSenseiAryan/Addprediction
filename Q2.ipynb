{
 "cells": [
  {
   "cell_type": "code",
   "execution_count": 1,
   "metadata": {},
   "outputs": [
    {
     "name": "stderr",
     "output_type": "stream",
     "text": [
      "/usr/local/lib/python3.6/dist-packages/statsmodels/tools/_testing.py:19: FutureWarning: pandas.util.testing is deprecated. Use the functions in the public API at pandas.testing instead.\n",
      "  import pandas.util.testing as tm\n"
     ]
    }
   ],
   "source": [
    "import pandas as pd\n",
    "import numpy as np \n",
    "import matplotlib.pyplot as plt\n",
    "import seaborn as sns\n",
    "\n",
    "sns.set_style('darkgrid')\n",
    "from collections  import Counter\n",
    "sns.set_palette(sns.diverging_palette(220, 20, n=7))\n",
    "%matplotlib inline"
   ]
  },
  {
   "cell_type": "code",
   "execution_count": 2,
   "metadata": {},
   "outputs": [],
   "source": [
    "from pycaret.regression import *"
   ]
  },
  {
   "cell_type": "code",
   "execution_count": 3,
   "metadata": {},
   "outputs": [],
   "source": [
    "df = pd.read_csv('../Addprediction/dataset/data.csv')"
   ]
  },
  {
   "cell_type": "code",
   "execution_count": null,
   "metadata": {},
   "outputs": [],
   "source": []
  },
  {
   "cell_type": "code",
   "execution_count": null,
   "metadata": {},
   "outputs": [],
   "source": []
  },
  {
   "cell_type": "code",
   "execution_count": null,
   "metadata": {},
   "outputs": [
    {
     "data": {
      "application/vnd.jupyter.widget-view+json": {
       "model_id": "176e91ecbeb941d990237f8e471ccb31",
       "version_major": 2,
       "version_minor": 0
      },
      "text/plain": [
       "IntProgress(value=0, description='Processing: ', max=13)"
      ]
     },
     "metadata": {},
     "output_type": "display_data"
    },
    {
     "data": {
      "text/html": [
       "<div>\n",
       "<style scoped>\n",
       "    .dataframe tbody tr th:only-of-type {\n",
       "        vertical-align: middle;\n",
       "    }\n",
       "\n",
       "    .dataframe tbody tr th {\n",
       "        vertical-align: top;\n",
       "    }\n",
       "\n",
       "    .dataframe thead th {\n",
       "        text-align: right;\n",
       "    }\n",
       "</style>\n",
       "<table border=\"1\" class=\"dataframe\">\n",
       "  <thead>\n",
       "    <tr style=\"text-align: right;\">\n",
       "      <th></th>\n",
       "      <th></th>\n",
       "      <th></th>\n",
       "    </tr>\n",
       "    <tr>\n",
       "      <th></th>\n",
       "      <th></th>\n",
       "      <th></th>\n",
       "    </tr>\n",
       "  </thead>\n",
       "  <tbody>\n",
       "    <tr>\n",
       "      <th>Initiated</th>\n",
       "      <td>. . . . . . . . . . . . . . . . . .</td>\n",
       "      <td>19:10:46</td>\n",
       "    </tr>\n",
       "    <tr>\n",
       "      <th>Status</th>\n",
       "      <td>. . . . . . . . . . . . . . . . . .</td>\n",
       "      <td>Preparing Data for Modeling</td>\n",
       "    </tr>\n",
       "    <tr>\n",
       "      <th>ETC</th>\n",
       "      <td>. . . . . . . . . . . . . . . . . .</td>\n",
       "      <td>Calculating ETC</td>\n",
       "    </tr>\n",
       "  </tbody>\n",
       "</table>\n",
       "</div>"
      ],
      "text/plain": [
       "                                                                           \n",
       "                                                                           \n",
       "Initiated  . . . . . . . . . . . . . . . . . .                     19:10:46\n",
       "Status     . . . . . . . . . . . . . . . . . .  Preparing Data for Modeling\n",
       "ETC        . . . . . . . . . . . . . . . . . .              Calculating ETC"
      ]
     },
     "metadata": {},
     "output_type": "display_data"
    },
    {
     "data": {
      "text/html": [
       "        <script type=\"text/javascript\">\n",
       "        window.PlotlyConfig = {MathJaxConfig: 'local'};\n",
       "        if (window.MathJax) {MathJax.Hub.Config({SVG: {font: \"STIX-Web\"}});}\n",
       "        if (typeof require !== 'undefined') {\n",
       "        require.undef(\"plotly\");\n",
       "        requirejs.config({\n",
       "            paths: {\n",
       "                'plotly': ['https://cdn.plot.ly/plotly-latest.min']\n",
       "            }\n",
       "        });\n",
       "        require(['plotly'], function(Plotly) {\n",
       "            window._Plotly = Plotly;\n",
       "        });\n",
       "        }\n",
       "        </script>\n",
       "        "
      ]
     },
     "metadata": {},
     "output_type": "display_data"
    },
    {
     "data": {
      "application/vnd.jupyter.widget-view+json": {
       "model_id": "b3a4310070814d24b05e9f7cbdb15dc5",
       "version_major": 2,
       "version_minor": 0
      },
      "text/plain": [
       "Text(value=\"Following data types have been inferred automatically, if they are correct press enter to continue…"
      ]
     },
     "metadata": {},
     "output_type": "display_data"
    },
    {
     "data": {
      "text/html": [
       "<div>\n",
       "<style scoped>\n",
       "    .dataframe tbody tr th:only-of-type {\n",
       "        vertical-align: middle;\n",
       "    }\n",
       "\n",
       "    .dataframe tbody tr th {\n",
       "        vertical-align: top;\n",
       "    }\n",
       "\n",
       "    .dataframe thead th {\n",
       "        text-align: right;\n",
       "    }\n",
       "</style>\n",
       "<table border=\"1\" class=\"dataframe\">\n",
       "  <thead>\n",
       "    <tr style=\"text-align: right;\">\n",
       "      <th></th>\n",
       "      <th>Data Type</th>\n",
       "    </tr>\n",
       "  </thead>\n",
       "  <tbody>\n",
       "    <tr>\n",
       "      <th>Unnamed: 0</th>\n",
       "      <td>ID Column</td>\n",
       "    </tr>\n",
       "    <tr>\n",
       "      <th>site_id</th>\n",
       "      <td>Categorical</td>\n",
       "    </tr>\n",
       "    <tr>\n",
       "      <th>ad_type_id</th>\n",
       "      <td>Categorical</td>\n",
       "    </tr>\n",
       "    <tr>\n",
       "      <th>geo_id</th>\n",
       "      <td>Numeric</td>\n",
       "    </tr>\n",
       "    <tr>\n",
       "      <th>device_category_id</th>\n",
       "      <td>Categorical</td>\n",
       "    </tr>\n",
       "    <tr>\n",
       "      <th>os_id</th>\n",
       "      <td>Categorical</td>\n",
       "    </tr>\n",
       "    <tr>\n",
       "      <th>monetization_channel_id</th>\n",
       "      <td>Categorical</td>\n",
       "    </tr>\n",
       "    <tr>\n",
       "      <th>ad_unit_id</th>\n",
       "      <td>Numeric</td>\n",
       "    </tr>\n",
       "    <tr>\n",
       "      <th>total_impressions</th>\n",
       "      <td>Numeric</td>\n",
       "    </tr>\n",
       "    <tr>\n",
       "      <th>total_revenue</th>\n",
       "      <td>Numeric</td>\n",
       "    </tr>\n",
       "    <tr>\n",
       "      <th>viewable_impressions</th>\n",
       "      <td>Numeric</td>\n",
       "    </tr>\n",
       "    <tr>\n",
       "      <th>measurable_impressions</th>\n",
       "      <td>Numeric</td>\n",
       "    </tr>\n",
       "    <tr>\n",
       "      <th>cpm_multiindex</th>\n",
       "      <td>Label</td>\n",
       "    </tr>\n",
       "    <tr>\n",
       "      <th>Day</th>\n",
       "      <td>Numeric</td>\n",
       "    </tr>\n",
       "    <tr>\n",
       "      <th>Dayofweek</th>\n",
       "      <td>Categorical</td>\n",
       "    </tr>\n",
       "  </tbody>\n",
       "</table>\n",
       "</div>"
      ],
      "text/plain": [
       "                           Data Type\n",
       "Unnamed: 0                 ID Column\n",
       "site_id                  Categorical\n",
       "ad_type_id               Categorical\n",
       "geo_id                       Numeric\n",
       "device_category_id       Categorical\n",
       "os_id                    Categorical\n",
       "monetization_channel_id  Categorical\n",
       "ad_unit_id                   Numeric\n",
       "total_impressions            Numeric\n",
       "total_revenue                Numeric\n",
       "viewable_impressions         Numeric\n",
       "measurable_impressions       Numeric\n",
       "cpm_multiindex                 Label\n",
       "Day                          Numeric\n",
       "Dayofweek                Categorical"
      ]
     },
     "metadata": {},
     "output_type": "display_data"
    },
    {
     "name": "stdout",
     "output_type": "stream",
     "text": [
      "\n"
     ]
    }
   ],
   "source": [
    "exp_reg101 = setup(data =df, target = 'cpm_multiindex', session_id=123,normalize = True, \n",
    "                   transformation = True, transform_target = True)"
   ]
  },
  {
   "cell_type": "code",
   "execution_count": 7,
   "metadata": {},
   "outputs": [],
   "source": [
    "# tree methods won't be effective also saving time\n",
    "blacklist = ['dt','rf','et','ada','gbr','mlp','xgboost','lightgbm','catboost','tr','ransac','par','svm','huber']"
   ]
  },
  {
   "cell_type": "code",
   "execution_count": 7,
   "metadata": {},
   "outputs": [
    {
     "data": {
      "text/html": [
       "<style  type=\"text/css\" >\n",
       "    #T_1799b5d6_a590_11ea_814d_ac2b6e99df81 th {\n",
       "          text-align: left;\n",
       "    }    #T_1799b5d6_a590_11ea_814d_ac2b6e99df81row0_col0 {\n",
       "            text-align:  left;\n",
       "        }    #T_1799b5d6_a590_11ea_814d_ac2b6e99df81row0_col1 {\n",
       "            background-color:  yellow;\n",
       "            text-align:  left;\n",
       "        }    #T_1799b5d6_a590_11ea_814d_ac2b6e99df81row0_col2 {\n",
       "            background-color:  yellow;\n",
       "            text-align:  left;\n",
       "        }    #T_1799b5d6_a590_11ea_814d_ac2b6e99df81row0_col3 {\n",
       "            background-color:  yellow;\n",
       "            text-align:  left;\n",
       "        }    #T_1799b5d6_a590_11ea_814d_ac2b6e99df81row0_col4 {\n",
       "            text-align:  left;\n",
       "        }    #T_1799b5d6_a590_11ea_814d_ac2b6e99df81row0_col5 {\n",
       "            background-color:  yellow;\n",
       "            text-align:  left;\n",
       "        }    #T_1799b5d6_a590_11ea_814d_ac2b6e99df81row0_col6 {\n",
       "            background-color:  yellow;\n",
       "            text-align:  left;\n",
       "        }    #T_1799b5d6_a590_11ea_814d_ac2b6e99df81row1_col0 {\n",
       "            text-align:  left;\n",
       "        }    #T_1799b5d6_a590_11ea_814d_ac2b6e99df81row1_col1 {\n",
       "            : ;\n",
       "            text-align:  left;\n",
       "        }    #T_1799b5d6_a590_11ea_814d_ac2b6e99df81row1_col2 {\n",
       "            : ;\n",
       "            text-align:  left;\n",
       "        }    #T_1799b5d6_a590_11ea_814d_ac2b6e99df81row1_col3 {\n",
       "            : ;\n",
       "            text-align:  left;\n",
       "        }    #T_1799b5d6_a590_11ea_814d_ac2b6e99df81row1_col4 {\n",
       "            text-align:  left;\n",
       "        }    #T_1799b5d6_a590_11ea_814d_ac2b6e99df81row1_col5 {\n",
       "            : ;\n",
       "            text-align:  left;\n",
       "        }    #T_1799b5d6_a590_11ea_814d_ac2b6e99df81row1_col6 {\n",
       "            : ;\n",
       "            text-align:  left;\n",
       "        }    #T_1799b5d6_a590_11ea_814d_ac2b6e99df81row2_col0 {\n",
       "            text-align:  left;\n",
       "        }    #T_1799b5d6_a590_11ea_814d_ac2b6e99df81row2_col1 {\n",
       "            : ;\n",
       "            text-align:  left;\n",
       "        }    #T_1799b5d6_a590_11ea_814d_ac2b6e99df81row2_col2 {\n",
       "            : ;\n",
       "            text-align:  left;\n",
       "        }    #T_1799b5d6_a590_11ea_814d_ac2b6e99df81row2_col3 {\n",
       "            : ;\n",
       "            text-align:  left;\n",
       "        }    #T_1799b5d6_a590_11ea_814d_ac2b6e99df81row2_col4 {\n",
       "            text-align:  left;\n",
       "        }    #T_1799b5d6_a590_11ea_814d_ac2b6e99df81row2_col5 {\n",
       "            : ;\n",
       "            text-align:  left;\n",
       "        }    #T_1799b5d6_a590_11ea_814d_ac2b6e99df81row2_col6 {\n",
       "            : ;\n",
       "            text-align:  left;\n",
       "        }    #T_1799b5d6_a590_11ea_814d_ac2b6e99df81row3_col0 {\n",
       "            text-align:  left;\n",
       "        }    #T_1799b5d6_a590_11ea_814d_ac2b6e99df81row3_col1 {\n",
       "            : ;\n",
       "            text-align:  left;\n",
       "        }    #T_1799b5d6_a590_11ea_814d_ac2b6e99df81row3_col2 {\n",
       "            : ;\n",
       "            text-align:  left;\n",
       "        }    #T_1799b5d6_a590_11ea_814d_ac2b6e99df81row3_col3 {\n",
       "            : ;\n",
       "            text-align:  left;\n",
       "        }    #T_1799b5d6_a590_11ea_814d_ac2b6e99df81row3_col4 {\n",
       "            text-align:  left;\n",
       "        }    #T_1799b5d6_a590_11ea_814d_ac2b6e99df81row3_col5 {\n",
       "            : ;\n",
       "            text-align:  left;\n",
       "        }    #T_1799b5d6_a590_11ea_814d_ac2b6e99df81row3_col6 {\n",
       "            : ;\n",
       "            text-align:  left;\n",
       "        }    #T_1799b5d6_a590_11ea_814d_ac2b6e99df81row4_col0 {\n",
       "            text-align:  left;\n",
       "        }    #T_1799b5d6_a590_11ea_814d_ac2b6e99df81row4_col1 {\n",
       "            : ;\n",
       "            text-align:  left;\n",
       "        }    #T_1799b5d6_a590_11ea_814d_ac2b6e99df81row4_col2 {\n",
       "            : ;\n",
       "            text-align:  left;\n",
       "        }    #T_1799b5d6_a590_11ea_814d_ac2b6e99df81row4_col3 {\n",
       "            : ;\n",
       "            text-align:  left;\n",
       "        }    #T_1799b5d6_a590_11ea_814d_ac2b6e99df81row4_col4 {\n",
       "            text-align:  left;\n",
       "        }    #T_1799b5d6_a590_11ea_814d_ac2b6e99df81row4_col5 {\n",
       "            : ;\n",
       "            text-align:  left;\n",
       "        }    #T_1799b5d6_a590_11ea_814d_ac2b6e99df81row4_col6 {\n",
       "            : ;\n",
       "            text-align:  left;\n",
       "        }    #T_1799b5d6_a590_11ea_814d_ac2b6e99df81row5_col0 {\n",
       "            text-align:  left;\n",
       "        }    #T_1799b5d6_a590_11ea_814d_ac2b6e99df81row5_col1 {\n",
       "            : ;\n",
       "            text-align:  left;\n",
       "        }    #T_1799b5d6_a590_11ea_814d_ac2b6e99df81row5_col2 {\n",
       "            : ;\n",
       "            text-align:  left;\n",
       "        }    #T_1799b5d6_a590_11ea_814d_ac2b6e99df81row5_col3 {\n",
       "            : ;\n",
       "            text-align:  left;\n",
       "        }    #T_1799b5d6_a590_11ea_814d_ac2b6e99df81row5_col4 {\n",
       "            text-align:  left;\n",
       "        }    #T_1799b5d6_a590_11ea_814d_ac2b6e99df81row5_col5 {\n",
       "            : ;\n",
       "            text-align:  left;\n",
       "        }    #T_1799b5d6_a590_11ea_814d_ac2b6e99df81row5_col6 {\n",
       "            : ;\n",
       "            text-align:  left;\n",
       "        }    #T_1799b5d6_a590_11ea_814d_ac2b6e99df81row6_col0 {\n",
       "            text-align:  left;\n",
       "        }    #T_1799b5d6_a590_11ea_814d_ac2b6e99df81row6_col1 {\n",
       "            : ;\n",
       "            text-align:  left;\n",
       "        }    #T_1799b5d6_a590_11ea_814d_ac2b6e99df81row6_col2 {\n",
       "            : ;\n",
       "            text-align:  left;\n",
       "        }    #T_1799b5d6_a590_11ea_814d_ac2b6e99df81row6_col3 {\n",
       "            : ;\n",
       "            text-align:  left;\n",
       "        }    #T_1799b5d6_a590_11ea_814d_ac2b6e99df81row6_col4 {\n",
       "            text-align:  left;\n",
       "        }    #T_1799b5d6_a590_11ea_814d_ac2b6e99df81row6_col5 {\n",
       "            : ;\n",
       "            text-align:  left;\n",
       "        }    #T_1799b5d6_a590_11ea_814d_ac2b6e99df81row6_col6 {\n",
       "            : ;\n",
       "            text-align:  left;\n",
       "        }    #T_1799b5d6_a590_11ea_814d_ac2b6e99df81row7_col0 {\n",
       "            text-align:  left;\n",
       "        }    #T_1799b5d6_a590_11ea_814d_ac2b6e99df81row7_col1 {\n",
       "            : ;\n",
       "            text-align:  left;\n",
       "        }    #T_1799b5d6_a590_11ea_814d_ac2b6e99df81row7_col2 {\n",
       "            : ;\n",
       "            text-align:  left;\n",
       "        }    #T_1799b5d6_a590_11ea_814d_ac2b6e99df81row7_col3 {\n",
       "            : ;\n",
       "            text-align:  left;\n",
       "        }    #T_1799b5d6_a590_11ea_814d_ac2b6e99df81row7_col4 {\n",
       "            text-align:  left;\n",
       "        }    #T_1799b5d6_a590_11ea_814d_ac2b6e99df81row7_col5 {\n",
       "            : ;\n",
       "            text-align:  left;\n",
       "        }    #T_1799b5d6_a590_11ea_814d_ac2b6e99df81row7_col6 {\n",
       "            : ;\n",
       "            text-align:  left;\n",
       "        }    #T_1799b5d6_a590_11ea_814d_ac2b6e99df81row8_col0 {\n",
       "            text-align:  left;\n",
       "        }    #T_1799b5d6_a590_11ea_814d_ac2b6e99df81row8_col1 {\n",
       "            : ;\n",
       "            text-align:  left;\n",
       "        }    #T_1799b5d6_a590_11ea_814d_ac2b6e99df81row8_col2 {\n",
       "            : ;\n",
       "            text-align:  left;\n",
       "        }    #T_1799b5d6_a590_11ea_814d_ac2b6e99df81row8_col3 {\n",
       "            : ;\n",
       "            text-align:  left;\n",
       "        }    #T_1799b5d6_a590_11ea_814d_ac2b6e99df81row8_col4 {\n",
       "            text-align:  left;\n",
       "        }    #T_1799b5d6_a590_11ea_814d_ac2b6e99df81row8_col5 {\n",
       "            : ;\n",
       "            text-align:  left;\n",
       "        }    #T_1799b5d6_a590_11ea_814d_ac2b6e99df81row8_col6 {\n",
       "            : ;\n",
       "            text-align:  left;\n",
       "        }</style><table id=\"T_1799b5d6_a590_11ea_814d_ac2b6e99df81\" ><thead>    <tr>        <th class=\"blank level0\" ></th>        <th class=\"col_heading level0 col0\" >Model</th>        <th class=\"col_heading level0 col1\" >MAE</th>        <th class=\"col_heading level0 col2\" >MSE</th>        <th class=\"col_heading level0 col3\" >RMSE</th>        <th class=\"col_heading level0 col4\" >R2</th>        <th class=\"col_heading level0 col5\" >RMSLE</th>        <th class=\"col_heading level0 col6\" >MAPE</th>    </tr></thead><tbody>\n",
       "                <tr>\n",
       "                        <th id=\"T_1799b5d6_a590_11ea_814d_ac2b6e99df81level0_row0\" class=\"row_heading level0 row0\" >0</th>\n",
       "                        <td id=\"T_1799b5d6_a590_11ea_814d_ac2b6e99df81row0_col0\" class=\"data row0 col0\" >K Neighbors Regressor</td>\n",
       "                        <td id=\"T_1799b5d6_a590_11ea_814d_ac2b6e99df81row0_col1\" class=\"data row0 col1\" >0.180000</td>\n",
       "                        <td id=\"T_1799b5d6_a590_11ea_814d_ac2b6e99df81row0_col2\" class=\"data row0 col2\" >0.151000</td>\n",
       "                        <td id=\"T_1799b5d6_a590_11ea_814d_ac2b6e99df81row0_col3\" class=\"data row0 col3\" >0.388600</td>\n",
       "                        <td id=\"T_1799b5d6_a590_11ea_814d_ac2b6e99df81row0_col4\" class=\"data row0 col4\" >0.450400</td>\n",
       "                        <td id=\"T_1799b5d6_a590_11ea_814d_ac2b6e99df81row0_col5\" class=\"data row0 col5\" >0.208800</td>\n",
       "                        <td id=\"T_1799b5d6_a590_11ea_814d_ac2b6e99df81row0_col6\" class=\"data row0 col6\" >0.356300</td>\n",
       "            </tr>\n",
       "            <tr>\n",
       "                        <th id=\"T_1799b5d6_a590_11ea_814d_ac2b6e99df81level0_row1\" class=\"row_heading level0 row1\" >1</th>\n",
       "                        <td id=\"T_1799b5d6_a590_11ea_814d_ac2b6e99df81row1_col0\" class=\"data row1 col0\" >Linear Regression</td>\n",
       "                        <td id=\"T_1799b5d6_a590_11ea_814d_ac2b6e99df81row1_col1\" class=\"data row1 col1\" >0.242100</td>\n",
       "                        <td id=\"T_1799b5d6_a590_11ea_814d_ac2b6e99df81row1_col2\" class=\"data row1 col2\" >0.206600</td>\n",
       "                        <td id=\"T_1799b5d6_a590_11ea_814d_ac2b6e99df81row1_col3\" class=\"data row1 col3\" >0.454600</td>\n",
       "                        <td id=\"T_1799b5d6_a590_11ea_814d_ac2b6e99df81row1_col4\" class=\"data row1 col4\" >0.248000</td>\n",
       "                        <td id=\"T_1799b5d6_a590_11ea_814d_ac2b6e99df81row1_col5\" class=\"data row1 col5\" >0.238500</td>\n",
       "                        <td id=\"T_1799b5d6_a590_11ea_814d_ac2b6e99df81row1_col6\" class=\"data row1 col6\" >0.531300</td>\n",
       "            </tr>\n",
       "            <tr>\n",
       "                        <th id=\"T_1799b5d6_a590_11ea_814d_ac2b6e99df81level0_row2\" class=\"row_heading level0 row2\" >2</th>\n",
       "                        <td id=\"T_1799b5d6_a590_11ea_814d_ac2b6e99df81row2_col0\" class=\"data row2 col0\" >Least Angle Regression</td>\n",
       "                        <td id=\"T_1799b5d6_a590_11ea_814d_ac2b6e99df81row2_col1\" class=\"data row2 col1\" >0.242100</td>\n",
       "                        <td id=\"T_1799b5d6_a590_11ea_814d_ac2b6e99df81row2_col2\" class=\"data row2 col2\" >0.206600</td>\n",
       "                        <td id=\"T_1799b5d6_a590_11ea_814d_ac2b6e99df81row2_col3\" class=\"data row2 col3\" >0.454500</td>\n",
       "                        <td id=\"T_1799b5d6_a590_11ea_814d_ac2b6e99df81row2_col4\" class=\"data row2 col4\" >0.248300</td>\n",
       "                        <td id=\"T_1799b5d6_a590_11ea_814d_ac2b6e99df81row2_col5\" class=\"data row2 col5\" >0.238500</td>\n",
       "                        <td id=\"T_1799b5d6_a590_11ea_814d_ac2b6e99df81row2_col6\" class=\"data row2 col6\" >0.531300</td>\n",
       "            </tr>\n",
       "            <tr>\n",
       "                        <th id=\"T_1799b5d6_a590_11ea_814d_ac2b6e99df81level0_row3\" class=\"row_heading level0 row3\" >3</th>\n",
       "                        <td id=\"T_1799b5d6_a590_11ea_814d_ac2b6e99df81row3_col0\" class=\"data row3 col0\" >Ridge Regression</td>\n",
       "                        <td id=\"T_1799b5d6_a590_11ea_814d_ac2b6e99df81row3_col1\" class=\"data row3 col1\" >0.242200</td>\n",
       "                        <td id=\"T_1799b5d6_a590_11ea_814d_ac2b6e99df81row3_col2\" class=\"data row3 col2\" >0.215300</td>\n",
       "                        <td id=\"T_1799b5d6_a590_11ea_814d_ac2b6e99df81row3_col3\" class=\"data row3 col3\" >0.463600</td>\n",
       "                        <td id=\"T_1799b5d6_a590_11ea_814d_ac2b6e99df81row3_col4\" class=\"data row3 col4\" >0.215900</td>\n",
       "                        <td id=\"T_1799b5d6_a590_11ea_814d_ac2b6e99df81row3_col5\" class=\"data row3 col5\" >0.238500</td>\n",
       "                        <td id=\"T_1799b5d6_a590_11ea_814d_ac2b6e99df81row3_col6\" class=\"data row3 col6\" >0.531400</td>\n",
       "            </tr>\n",
       "            <tr>\n",
       "                        <th id=\"T_1799b5d6_a590_11ea_814d_ac2b6e99df81level0_row4\" class=\"row_heading level0 row4\" >4</th>\n",
       "                        <td id=\"T_1799b5d6_a590_11ea_814d_ac2b6e99df81row4_col0\" class=\"data row4 col0\" >Bayesian Ridge</td>\n",
       "                        <td id=\"T_1799b5d6_a590_11ea_814d_ac2b6e99df81row4_col1\" class=\"data row4 col1\" >0.242200</td>\n",
       "                        <td id=\"T_1799b5d6_a590_11ea_814d_ac2b6e99df81row4_col2\" class=\"data row4 col2\" >0.215200</td>\n",
       "                        <td id=\"T_1799b5d6_a590_11ea_814d_ac2b6e99df81row4_col3\" class=\"data row4 col3\" >0.463500</td>\n",
       "                        <td id=\"T_1799b5d6_a590_11ea_814d_ac2b6e99df81row4_col4\" class=\"data row4 col4\" >0.216800</td>\n",
       "                        <td id=\"T_1799b5d6_a590_11ea_814d_ac2b6e99df81row4_col5\" class=\"data row4 col5\" >0.238500</td>\n",
       "                        <td id=\"T_1799b5d6_a590_11ea_814d_ac2b6e99df81row4_col6\" class=\"data row4 col6\" >0.531400</td>\n",
       "            </tr>\n",
       "            <tr>\n",
       "                        <th id=\"T_1799b5d6_a590_11ea_814d_ac2b6e99df81level0_row5\" class=\"row_heading level0 row5\" >5</th>\n",
       "                        <td id=\"T_1799b5d6_a590_11ea_814d_ac2b6e99df81row5_col0\" class=\"data row5 col0\" >Orthogonal Matching Pursuit</td>\n",
       "                        <td id=\"T_1799b5d6_a590_11ea_814d_ac2b6e99df81row5_col1\" class=\"data row5 col1\" >0.258900</td>\n",
       "                        <td id=\"T_1799b5d6_a590_11ea_814d_ac2b6e99df81row5_col2\" class=\"data row5 col2\" >0.219600</td>\n",
       "                        <td id=\"T_1799b5d6_a590_11ea_814d_ac2b6e99df81row5_col3\" class=\"data row5 col3\" >0.468600</td>\n",
       "                        <td id=\"T_1799b5d6_a590_11ea_814d_ac2b6e99df81row5_col4\" class=\"data row5 col4\" >0.200800</td>\n",
       "                        <td id=\"T_1799b5d6_a590_11ea_814d_ac2b6e99df81row5_col5\" class=\"data row5 col5\" >0.252400</td>\n",
       "                        <td id=\"T_1799b5d6_a590_11ea_814d_ac2b6e99df81row5_col6\" class=\"data row5 col6\" >0.568000</td>\n",
       "            </tr>\n",
       "            <tr>\n",
       "                        <th id=\"T_1799b5d6_a590_11ea_814d_ac2b6e99df81level0_row6\" class=\"row_heading level0 row6\" >6</th>\n",
       "                        <td id=\"T_1799b5d6_a590_11ea_814d_ac2b6e99df81row6_col0\" class=\"data row6 col0\" >Lasso Regression</td>\n",
       "                        <td id=\"T_1799b5d6_a590_11ea_814d_ac2b6e99df81row6_col1\" class=\"data row6 col1\" >0.314200</td>\n",
       "                        <td id=\"T_1799b5d6_a590_11ea_814d_ac2b6e99df81row6_col2\" class=\"data row6 col2\" >0.305300</td>\n",
       "                        <td id=\"T_1799b5d6_a590_11ea_814d_ac2b6e99df81row6_col3\" class=\"data row6 col3\" >0.552500</td>\n",
       "                        <td id=\"T_1799b5d6_a590_11ea_814d_ac2b6e99df81row6_col4\" class=\"data row6 col4\" >-0.111000</td>\n",
       "                        <td id=\"T_1799b5d6_a590_11ea_814d_ac2b6e99df81row6_col5\" class=\"data row6 col5\" >0.312500</td>\n",
       "                        <td id=\"T_1799b5d6_a590_11ea_814d_ac2b6e99df81row6_col6\" class=\"data row6 col6\" >0.647300</td>\n",
       "            </tr>\n",
       "            <tr>\n",
       "                        <th id=\"T_1799b5d6_a590_11ea_814d_ac2b6e99df81level0_row7\" class=\"row_heading level0 row7\" >7</th>\n",
       "                        <td id=\"T_1799b5d6_a590_11ea_814d_ac2b6e99df81row7_col0\" class=\"data row7 col0\" >Elastic Net</td>\n",
       "                        <td id=\"T_1799b5d6_a590_11ea_814d_ac2b6e99df81row7_col1\" class=\"data row7 col1\" >0.314200</td>\n",
       "                        <td id=\"T_1799b5d6_a590_11ea_814d_ac2b6e99df81row7_col2\" class=\"data row7 col2\" >0.305300</td>\n",
       "                        <td id=\"T_1799b5d6_a590_11ea_814d_ac2b6e99df81row7_col3\" class=\"data row7 col3\" >0.552500</td>\n",
       "                        <td id=\"T_1799b5d6_a590_11ea_814d_ac2b6e99df81row7_col4\" class=\"data row7 col4\" >-0.111000</td>\n",
       "                        <td id=\"T_1799b5d6_a590_11ea_814d_ac2b6e99df81row7_col5\" class=\"data row7 col5\" >0.312500</td>\n",
       "                        <td id=\"T_1799b5d6_a590_11ea_814d_ac2b6e99df81row7_col6\" class=\"data row7 col6\" >0.647300</td>\n",
       "            </tr>\n",
       "            <tr>\n",
       "                        <th id=\"T_1799b5d6_a590_11ea_814d_ac2b6e99df81level0_row8\" class=\"row_heading level0 row8\" >8</th>\n",
       "                        <td id=\"T_1799b5d6_a590_11ea_814d_ac2b6e99df81row8_col0\" class=\"data row8 col0\" >Lasso Least Angle Regression</td>\n",
       "                        <td id=\"T_1799b5d6_a590_11ea_814d_ac2b6e99df81row8_col1\" class=\"data row8 col1\" >0.314200</td>\n",
       "                        <td id=\"T_1799b5d6_a590_11ea_814d_ac2b6e99df81row8_col2\" class=\"data row8 col2\" >0.305300</td>\n",
       "                        <td id=\"T_1799b5d6_a590_11ea_814d_ac2b6e99df81row8_col3\" class=\"data row8 col3\" >0.552500</td>\n",
       "                        <td id=\"T_1799b5d6_a590_11ea_814d_ac2b6e99df81row8_col4\" class=\"data row8 col4\" >-0.111000</td>\n",
       "                        <td id=\"T_1799b5d6_a590_11ea_814d_ac2b6e99df81row8_col5\" class=\"data row8 col5\" >0.312500</td>\n",
       "                        <td id=\"T_1799b5d6_a590_11ea_814d_ac2b6e99df81row8_col6\" class=\"data row8 col6\" >0.647300</td>\n",
       "            </tr>\n",
       "    </tbody></table>"
      ],
      "text/plain": [
       "<pandas.io.formats.style.Styler at 0x7fa83191dac8>"
      ]
     },
     "execution_count": 7,
     "metadata": {},
     "output_type": "execute_result"
    }
   ],
   "source": [
    "compare_models(blacklist = blacklist, fold = 8,  round = 4,  sort = 'MAPE', turbo = True)"
   ]
  },
  {
   "cell_type": "code",
   "execution_count": 8,
   "metadata": {},
   "outputs": [
    {
     "data": {
      "text/html": [
       "<div>\n",
       "<style scoped>\n",
       "    .dataframe tbody tr th:only-of-type {\n",
       "        vertical-align: middle;\n",
       "    }\n",
       "\n",
       "    .dataframe tbody tr th {\n",
       "        vertical-align: top;\n",
       "    }\n",
       "\n",
       "    .dataframe thead th {\n",
       "        text-align: right;\n",
       "    }\n",
       "</style>\n",
       "<table border=\"1\" class=\"dataframe\">\n",
       "  <thead>\n",
       "    <tr style=\"text-align: right;\">\n",
       "      <th></th>\n",
       "      <th>MAE</th>\n",
       "      <th>MSE</th>\n",
       "      <th>RMSE</th>\n",
       "      <th>R2</th>\n",
       "      <th>RMSLE</th>\n",
       "      <th>MAPE</th>\n",
       "    </tr>\n",
       "  </thead>\n",
       "  <tbody>\n",
       "    <tr>\n",
       "      <th>0</th>\n",
       "      <td>0.2403</td>\n",
       "      <td>0.2040</td>\n",
       "      <td>0.4516</td>\n",
       "      <td>0.2456</td>\n",
       "      <td>0.2373</td>\n",
       "      <td>0.5306</td>\n",
       "    </tr>\n",
       "    <tr>\n",
       "      <th>1</th>\n",
       "      <td>0.2424</td>\n",
       "      <td>0.2135</td>\n",
       "      <td>0.4620</td>\n",
       "      <td>0.2216</td>\n",
       "      <td>0.2383</td>\n",
       "      <td>0.5332</td>\n",
       "    </tr>\n",
       "    <tr>\n",
       "      <th>2</th>\n",
       "      <td>0.2413</td>\n",
       "      <td>0.2033</td>\n",
       "      <td>0.4509</td>\n",
       "      <td>0.2571</td>\n",
       "      <td>0.2374</td>\n",
       "      <td>0.5305</td>\n",
       "    </tr>\n",
       "    <tr>\n",
       "      <th>3</th>\n",
       "      <td>0.2384</td>\n",
       "      <td>0.2023</td>\n",
       "      <td>0.4498</td>\n",
       "      <td>0.2481</td>\n",
       "      <td>0.2361</td>\n",
       "      <td>0.5276</td>\n",
       "    </tr>\n",
       "    <tr>\n",
       "      <th>4</th>\n",
       "      <td>0.2464</td>\n",
       "      <td>0.2518</td>\n",
       "      <td>0.5018</td>\n",
       "      <td>0.1121</td>\n",
       "      <td>0.2414</td>\n",
       "      <td>0.5338</td>\n",
       "    </tr>\n",
       "    <tr>\n",
       "      <th>5</th>\n",
       "      <td>0.2400</td>\n",
       "      <td>0.2034</td>\n",
       "      <td>0.4510</td>\n",
       "      <td>0.2530</td>\n",
       "      <td>0.2366</td>\n",
       "      <td>0.5276</td>\n",
       "    </tr>\n",
       "    <tr>\n",
       "      <th>6</th>\n",
       "      <td>0.2438</td>\n",
       "      <td>0.2151</td>\n",
       "      <td>0.4638</td>\n",
       "      <td>0.2362</td>\n",
       "      <td>0.2402</td>\n",
       "      <td>0.5332</td>\n",
       "    </tr>\n",
       "    <tr>\n",
       "      <th>7</th>\n",
       "      <td>0.2428</td>\n",
       "      <td>0.2025</td>\n",
       "      <td>0.4500</td>\n",
       "      <td>0.2609</td>\n",
       "      <td>0.2390</td>\n",
       "      <td>0.5313</td>\n",
       "    </tr>\n",
       "    <tr>\n",
       "      <th>8</th>\n",
       "      <td>0.2411</td>\n",
       "      <td>0.2027</td>\n",
       "      <td>0.4502</td>\n",
       "      <td>0.2559</td>\n",
       "      <td>0.2378</td>\n",
       "      <td>0.5303</td>\n",
       "    </tr>\n",
       "    <tr>\n",
       "      <th>9</th>\n",
       "      <td>0.2460</td>\n",
       "      <td>0.2148</td>\n",
       "      <td>0.4635</td>\n",
       "      <td>0.2237</td>\n",
       "      <td>0.2415</td>\n",
       "      <td>0.5362</td>\n",
       "    </tr>\n",
       "    <tr>\n",
       "      <th>Mean</th>\n",
       "      <td>0.2422</td>\n",
       "      <td>0.2113</td>\n",
       "      <td>0.4595</td>\n",
       "      <td>0.2314</td>\n",
       "      <td>0.2385</td>\n",
       "      <td>0.5314</td>\n",
       "    </tr>\n",
       "    <tr>\n",
       "      <th>SD</th>\n",
       "      <td>0.0024</td>\n",
       "      <td>0.0144</td>\n",
       "      <td>0.0152</td>\n",
       "      <td>0.0418</td>\n",
       "      <td>0.0018</td>\n",
       "      <td>0.0026</td>\n",
       "    </tr>\n",
       "  </tbody>\n",
       "</table>\n",
       "</div>"
      ],
      "text/plain": [
       "         MAE     MSE    RMSE      R2   RMSLE    MAPE\n",
       "0     0.2403  0.2040  0.4516  0.2456  0.2373  0.5306\n",
       "1     0.2424  0.2135  0.4620  0.2216  0.2383  0.5332\n",
       "2     0.2413  0.2033  0.4509  0.2571  0.2374  0.5305\n",
       "3     0.2384  0.2023  0.4498  0.2481  0.2361  0.5276\n",
       "4     0.2464  0.2518  0.5018  0.1121  0.2414  0.5338\n",
       "5     0.2400  0.2034  0.4510  0.2530  0.2366  0.5276\n",
       "6     0.2438  0.2151  0.4638  0.2362  0.2402  0.5332\n",
       "7     0.2428  0.2025  0.4500  0.2609  0.2390  0.5313\n",
       "8     0.2411  0.2027  0.4502  0.2559  0.2378  0.5303\n",
       "9     0.2460  0.2148  0.4635  0.2237  0.2415  0.5362\n",
       "Mean  0.2422  0.2113  0.4595  0.2314  0.2385  0.5314\n",
       "SD    0.0024  0.0144  0.0152  0.0418  0.0018  0.0026"
      ]
     },
     "metadata": {},
     "output_type": "display_data"
    }
   ],
   "source": [
    "lr = create_model('lr')"
   ]
  },
  {
   "cell_type": "code",
   "execution_count": 9,
   "metadata": {},
   "outputs": [
    {
     "data": {
      "text/html": [
       "<div>\n",
       "<style scoped>\n",
       "    .dataframe tbody tr th:only-of-type {\n",
       "        vertical-align: middle;\n",
       "    }\n",
       "\n",
       "    .dataframe tbody tr th {\n",
       "        vertical-align: top;\n",
       "    }\n",
       "\n",
       "    .dataframe thead th {\n",
       "        text-align: right;\n",
       "    }\n",
       "</style>\n",
       "<table border=\"1\" class=\"dataframe\">\n",
       "  <thead>\n",
       "    <tr style=\"text-align: right;\">\n",
       "      <th></th>\n",
       "      <th>MAE</th>\n",
       "      <th>MSE</th>\n",
       "      <th>RMSE</th>\n",
       "      <th>R2</th>\n",
       "      <th>RMSLE</th>\n",
       "      <th>MAPE</th>\n",
       "    </tr>\n",
       "  </thead>\n",
       "  <tbody>\n",
       "    <tr>\n",
       "      <th>0</th>\n",
       "      <td>0.2399</td>\n",
       "      <td>0.2015</td>\n",
       "      <td>0.4489</td>\n",
       "      <td>0.2548</td>\n",
       "      <td>0.2372</td>\n",
       "      <td>0.5298</td>\n",
       "    </tr>\n",
       "    <tr>\n",
       "      <th>1</th>\n",
       "      <td>0.2428</td>\n",
       "      <td>0.2162</td>\n",
       "      <td>0.4650</td>\n",
       "      <td>0.2116</td>\n",
       "      <td>0.2385</td>\n",
       "      <td>0.5335</td>\n",
       "    </tr>\n",
       "    <tr>\n",
       "      <th>2</th>\n",
       "      <td>0.2413</td>\n",
       "      <td>0.2034</td>\n",
       "      <td>0.4510</td>\n",
       "      <td>0.2566</td>\n",
       "      <td>0.2376</td>\n",
       "      <td>0.5311</td>\n",
       "    </tr>\n",
       "    <tr>\n",
       "      <th>3</th>\n",
       "      <td>0.2385</td>\n",
       "      <td>0.2019</td>\n",
       "      <td>0.4493</td>\n",
       "      <td>0.2498</td>\n",
       "      <td>0.2359</td>\n",
       "      <td>0.5272</td>\n",
       "    </tr>\n",
       "    <tr>\n",
       "      <th>4</th>\n",
       "      <td>0.2453</td>\n",
       "      <td>0.2157</td>\n",
       "      <td>0.4644</td>\n",
       "      <td>0.2394</td>\n",
       "      <td>0.2408</td>\n",
       "      <td>0.5324</td>\n",
       "    </tr>\n",
       "    <tr>\n",
       "      <th>5</th>\n",
       "      <td>0.2398</td>\n",
       "      <td>0.2024</td>\n",
       "      <td>0.4499</td>\n",
       "      <td>0.2567</td>\n",
       "      <td>0.2365</td>\n",
       "      <td>0.5271</td>\n",
       "    </tr>\n",
       "    <tr>\n",
       "      <th>6</th>\n",
       "      <td>0.2439</td>\n",
       "      <td>0.2132</td>\n",
       "      <td>0.4617</td>\n",
       "      <td>0.2429</td>\n",
       "      <td>0.2400</td>\n",
       "      <td>0.5343</td>\n",
       "    </tr>\n",
       "    <tr>\n",
       "      <th>7</th>\n",
       "      <td>0.2428</td>\n",
       "      <td>0.2025</td>\n",
       "      <td>0.4501</td>\n",
       "      <td>0.2607</td>\n",
       "      <td>0.2390</td>\n",
       "      <td>0.5315</td>\n",
       "    </tr>\n",
       "    <tr>\n",
       "      <th>8</th>\n",
       "      <td>0.2421</td>\n",
       "      <td>0.2403</td>\n",
       "      <td>0.4902</td>\n",
       "      <td>0.1179</td>\n",
       "      <td>0.2382</td>\n",
       "      <td>0.5312</td>\n",
       "    </tr>\n",
       "    <tr>\n",
       "      <th>9</th>\n",
       "      <td>0.2461</td>\n",
       "      <td>0.2143</td>\n",
       "      <td>0.4630</td>\n",
       "      <td>0.2253</td>\n",
       "      <td>0.2415</td>\n",
       "      <td>0.5364</td>\n",
       "    </tr>\n",
       "    <tr>\n",
       "      <th>Mean</th>\n",
       "      <td>0.2423</td>\n",
       "      <td>0.2111</td>\n",
       "      <td>0.4593</td>\n",
       "      <td>0.2316</td>\n",
       "      <td>0.2385</td>\n",
       "      <td>0.5315</td>\n",
       "    </tr>\n",
       "    <tr>\n",
       "      <th>SD</th>\n",
       "      <td>0.0023</td>\n",
       "      <td>0.0114</td>\n",
       "      <td>0.0122</td>\n",
       "      <td>0.0407</td>\n",
       "      <td>0.0017</td>\n",
       "      <td>0.0028</td>\n",
       "    </tr>\n",
       "  </tbody>\n",
       "</table>\n",
       "</div>"
      ],
      "text/plain": [
       "         MAE     MSE    RMSE      R2   RMSLE    MAPE\n",
       "0     0.2399  0.2015  0.4489  0.2548  0.2372  0.5298\n",
       "1     0.2428  0.2162  0.4650  0.2116  0.2385  0.5335\n",
       "2     0.2413  0.2034  0.4510  0.2566  0.2376  0.5311\n",
       "3     0.2385  0.2019  0.4493  0.2498  0.2359  0.5272\n",
       "4     0.2453  0.2157  0.4644  0.2394  0.2408  0.5324\n",
       "5     0.2398  0.2024  0.4499  0.2567  0.2365  0.5271\n",
       "6     0.2439  0.2132  0.4617  0.2429  0.2400  0.5343\n",
       "7     0.2428  0.2025  0.4501  0.2607  0.2390  0.5315\n",
       "8     0.2421  0.2403  0.4902  0.1179  0.2382  0.5312\n",
       "9     0.2461  0.2143  0.4630  0.2253  0.2415  0.5364\n",
       "Mean  0.2423  0.2111  0.4593  0.2316  0.2385  0.5315\n",
       "SD    0.0023  0.0114  0.0122  0.0407  0.0017  0.0028"
      ]
     },
     "metadata": {},
     "output_type": "display_data"
    }
   ],
   "source": [
    "tuned_lr = tune_model('lr')"
   ]
  },
  {
   "cell_type": "code",
   "execution_count": 10,
   "metadata": {},
   "outputs": [
    {
     "data": {
      "image/png": "[encoded data removed]",
      "text/plain": [
       "<Figure size 576x396 with 2 Axes>"
      ]
     },
     "metadata": {},
     "output_type": "display_data"
    }
   ],
   "source": [
    "plot_model(tuned_lr)"
   ]
  },
  {
   "cell_type": "code",
   "execution_count": 11,
   "metadata": {},
   "outputs": [
    {
     "data": {
      "image/png": "[encoded data removed]",
      "text/plain": [
       "<Figure size 576x396 with 1 Axes>"
      ]
     },
     "metadata": {},
     "output_type": "display_data"
    }
   ],
   "source": [
    "plot_model(tuned_lr, plot = 'error')"
   ]
  },
  {
   "cell_type": "code",
   "execution_count": 12,
   "metadata": {},
   "outputs": [
    {
     "data": {
      "image/png": "[encoded data removed]",
      "text/plain": [
       "<Figure size 576x360 with 1 Axes>"
      ]
     },
     "metadata": {},
     "output_type": "display_data"
    }
   ],
   "source": [
    "plot_model(tuned_lr, plot='feature')"
   ]
  },
  {
   "cell_type": "code",
   "execution_count": 13,
   "metadata": {},
   "outputs": [
    {
     "data": {
      "application/vnd.jupyter.widget-view+json": {
       "model_id": "7332e9b8d9c54f43874c35f7987a24a3",
       "version_major": 2,
       "version_minor": 0
      },
      "text/plain": [
       "interactive(children=(ToggleButtons(description='Plot Type:', icons=('',), options=(('Hyperparameters', 'param…"
      ]
     },
     "metadata": {},
     "output_type": "display_data"
    }
   ],
   "source": [
    "evaluate_model(tuned_lr)"
   ]
  },
  {
   "cell_type": "code",
   "execution_count": 14,
   "metadata": {},
   "outputs": [
    {
     "data": {
      "text/html": [
       "<div>\n",
       "<style scoped>\n",
       "    .dataframe tbody tr th:only-of-type {\n",
       "        vertical-align: middle;\n",
       "    }\n",
       "\n",
       "    .dataframe tbody tr th {\n",
       "        vertical-align: top;\n",
       "    }\n",
       "\n",
       "    .dataframe thead th {\n",
       "        text-align: right;\n",
       "    }\n",
       "</style>\n",
       "<table border=\"1\" class=\"dataframe\">\n",
       "  <thead>\n",
       "    <tr style=\"text-align: right;\">\n",
       "      <th></th>\n",
       "      <th>Model</th>\n",
       "      <th>MAE</th>\n",
       "      <th>MSE</th>\n",
       "      <th>RMSE</th>\n",
       "      <th>R2</th>\n",
       "      <th>RMSLE</th>\n",
       "      <th>MAPE</th>\n",
       "    </tr>\n",
       "  </thead>\n",
       "  <tbody>\n",
       "    <tr>\n",
       "      <th>0</th>\n",
       "      <td>Linear Regression</td>\n",
       "      <td>0.2417</td>\n",
       "      <td>0.2079</td>\n",
       "      <td>0.456</td>\n",
       "      <td>0.2417</td>\n",
       "      <td>0.2381</td>\n",
       "      <td>0.5292</td>\n",
       "    </tr>\n",
       "  </tbody>\n",
       "</table>\n",
       "</div>"
      ],
      "text/plain": [
       "               Model     MAE     MSE   RMSE      R2   RMSLE    MAPE\n",
       "0  Linear Regression  0.2417  0.2079  0.456  0.2417  0.2381  0.5292"
      ]
     },
     "metadata": {},
     "output_type": "display_data"
    }
   ],
   "source": [
    "predict_model(tuned_lr);\n"
   ]
  },
  {
   "cell_type": "code",
   "execution_count": 15,
   "metadata": {},
   "outputs": [],
   "source": [
    "final_lr = finalize_model(tuned_lr)"
   ]
  },
  {
   "cell_type": "code",
   "execution_count": 17,
   "metadata": {},
   "outputs": [
    {
     "name": "stdout",
     "output_type": "stream",
     "text": [
      "Transformation Pipeline and Model Succesfully Saved\n"
     ]
    }
   ],
   "source": [
    "save_model(final_lr,'FinalLinearRegModel')"
   ]
  },
  {
   "cell_type": "code",
   "execution_count": null,
   "metadata": {},
   "outputs": [],
   "source": []
  },
  {
   "cell_type": "code",
   "execution_count": 18,
   "metadata": {},
   "outputs": [
    {
     "name": "stdout",
     "output_type": "stream",
     "text": [
      "Experiment Succesfully Saved\n"
     ]
    }
   ],
   "source": [
    "save_experiment('Experiment_123 p1')"
   ]
  },
  {
   "cell_type": "markdown",
   "metadata": {},
   "source": [
    "## knn"
   ]
  },
  {
   "cell_type": "code",
   "execution_count": null,
   "metadata": {
    "scrolled": true
   },
   "outputs": [
    {
     "data": {
      "text/html": [
       "<div>\n",
       "<style scoped>\n",
       "    .dataframe tbody tr th:only-of-type {\n",
       "        vertical-align: middle;\n",
       "    }\n",
       "\n",
       "    .dataframe tbody tr th {\n",
       "        vertical-align: top;\n",
       "    }\n",
       "\n",
       "    .dataframe thead th {\n",
       "        text-align: right;\n",
       "    }\n",
       "</style>\n",
       "<table border=\"1\" class=\"dataframe\">\n",
       "  <thead>\n",
       "    <tr style=\"text-align: right;\">\n",
       "      <th></th>\n",
       "      <th>MAE</th>\n",
       "      <th>MSE</th>\n",
       "      <th>RMSE</th>\n",
       "      <th>R2</th>\n",
       "      <th>RMSLE</th>\n",
       "      <th>MAPE</th>\n",
       "    </tr>\n",
       "  </thead>\n",
       "  <tbody>\n",
       "    <tr>\n",
       "      <th>0</th>\n",
       "      <td>0.1796</td>\n",
       "      <td>0.1504</td>\n",
       "      <td>0.3879</td>\n",
       "      <td>0.4436</td>\n",
       "      <td>0.2085</td>\n",
       "      <td>0.3577</td>\n",
       "    </tr>\n",
       "    <tr>\n",
       "      <th>1</th>\n",
       "      <td>0.1798</td>\n",
       "      <td>0.1499</td>\n",
       "      <td>0.3872</td>\n",
       "      <td>0.4534</td>\n",
       "      <td>0.2081</td>\n",
       "      <td>0.3573</td>\n",
       "    </tr>\n",
       "    <tr>\n",
       "      <th>2</th>\n",
       "      <td>0.1804</td>\n",
       "      <td>0.1506</td>\n",
       "      <td>0.3881</td>\n",
       "      <td>0.4496</td>\n",
       "      <td>0.2081</td>\n",
       "      <td>0.3571</td>\n",
       "    </tr>\n",
       "    <tr>\n",
       "      <th>3</th>\n",
       "      <td>0.1747</td>\n",
       "      <td>0.1437</td>\n",
       "      <td>0.3790</td>\n",
       "      <td>0.4661</td>\n",
       "      <td>0.2054</td>\n",
       "      <td>0.3512</td>\n",
       "    </tr>\n",
       "    <tr>\n",
       "      <th>4</th>\n",
       "      <td>0.1823</td>\n",
       "      <td>0.1556</td>\n",
       "      <td>0.3944</td>\n",
       "      <td>0.4514</td>\n",
       "      <td>0.2100</td>\n",
       "      <td>0.3570</td>\n",
       "    </tr>\n",
       "    <tr>\n",
       "      <th>5</th>\n",
       "      <td>0.1792</td>\n",
       "      <td>0.1491</td>\n",
       "      <td>0.3861</td>\n",
       "      <td>0.4524</td>\n",
       "      <td>0.2083</td>\n",
       "      <td>0.3562</td>\n",
       "    </tr>\n",
       "    <tr>\n",
       "      <th>6</th>\n",
       "      <td>0.1799</td>\n",
       "      <td>0.1541</td>\n",
       "      <td>0.3925</td>\n",
       "      <td>0.4528</td>\n",
       "      <td>0.2096</td>\n",
       "      <td>0.3541</td>\n",
       "    </tr>\n",
       "    <tr>\n",
       "      <th>7</th>\n",
       "      <td>0.1798</td>\n",
       "      <td>0.1502</td>\n",
       "      <td>0.3876</td>\n",
       "      <td>0.4516</td>\n",
       "      <td>0.2085</td>\n",
       "      <td>0.3546</td>\n",
       "    </tr>\n",
       "    <tr>\n",
       "      <th>8</th>\n",
       "      <td>0.1792</td>\n",
       "      <td>0.1501</td>\n",
       "      <td>0.3874</td>\n",
       "      <td>0.4490</td>\n",
       "      <td>0.2084</td>\n",
       "      <td>0.3575</td>\n",
       "    </tr>\n",
       "    <tr>\n",
       "      <th>9</th>\n",
       "      <td>0.1823</td>\n",
       "      <td>0.1530</td>\n",
       "      <td>0.3912</td>\n",
       "      <td>0.4469</td>\n",
       "      <td>0.2100</td>\n",
       "      <td>0.3592</td>\n",
       "    </tr>\n",
       "    <tr>\n",
       "      <th>Mean</th>\n",
       "      <td>0.1797</td>\n",
       "      <td>0.1507</td>\n",
       "      <td>0.3881</td>\n",
       "      <td>0.4517</td>\n",
       "      <td>0.2085</td>\n",
       "      <td>0.3562</td>\n",
       "    </tr>\n",
       "    <tr>\n",
       "      <th>SD</th>\n",
       "      <td>0.0020</td>\n",
       "      <td>0.0031</td>\n",
       "      <td>0.0040</td>\n",
       "      <td>0.0056</td>\n",
       "      <td>0.0012</td>\n",
       "      <td>0.0022</td>\n",
       "    </tr>\n",
       "  </tbody>\n",
       "</table>\n",
       "</div>"
      ],
      "text/plain": [
       "         MAE     MSE    RMSE      R2   RMSLE    MAPE\n",
       "0     0.1796  0.1504  0.3879  0.4436  0.2085  0.3577\n",
       "1     0.1798  0.1499  0.3872  0.4534  0.2081  0.3573\n",
       "2     0.1804  0.1506  0.3881  0.4496  0.2081  0.3571\n",
       "3     0.1747  0.1437  0.3790  0.4661  0.2054  0.3512\n",
       "4     0.1823  0.1556  0.3944  0.4514  0.2100  0.3570\n",
       "5     0.1792  0.1491  0.3861  0.4524  0.2083  0.3562\n",
       "6     0.1799  0.1541  0.3925  0.4528  0.2096  0.3541\n",
       "7     0.1798  0.1502  0.3876  0.4516  0.2085  0.3546\n",
       "8     0.1792  0.1501  0.3874  0.4490  0.2084  0.3575\n",
       "9     0.1823  0.1530  0.3912  0.4469  0.2100  0.3592\n",
       "Mean  0.1797  0.1507  0.3881  0.4517  0.2085  0.3562\n",
       "SD    0.0020  0.0031  0.0040  0.0056  0.0012  0.0022"
      ]
     },
     "metadata": {},
     "output_type": "display_data"
    },
    {
     "data": {
      "application/vnd.jupyter.widget-view+json": {
       "model_id": "627e620a8d6344cc8d0e39b7bca04c12",
       "version_major": 2,
       "version_minor": 0
      },
      "text/plain": [
       "IntProgress(value=0, description='Processing: ', max=16)"
      ]
     },
     "metadata": {},
     "output_type": "display_data"
    },
    {
     "data": {
      "text/html": [
       "<div>\n",
       "<style scoped>\n",
       "    .dataframe tbody tr th:only-of-type {\n",
       "        vertical-align: middle;\n",
       "    }\n",
       "\n",
       "    .dataframe tbody tr th {\n",
       "        vertical-align: top;\n",
       "    }\n",
       "\n",
       "    .dataframe thead th {\n",
       "        text-align: right;\n",
       "    }\n",
       "</style>\n",
       "<table border=\"1\" class=\"dataframe\">\n",
       "  <thead>\n",
       "    <tr style=\"text-align: right;\">\n",
       "      <th></th>\n",
       "      <th></th>\n",
       "      <th></th>\n",
       "    </tr>\n",
       "    <tr>\n",
       "      <th></th>\n",
       "      <th></th>\n",
       "      <th></th>\n",
       "    </tr>\n",
       "  </thead>\n",
       "  <tbody>\n",
       "    <tr>\n",
       "      <th>Initiated</th>\n",
       "      <td>. . . . . . . . . . . . . . . . . .</td>\n",
       "      <td>18:24:25</td>\n",
       "    </tr>\n",
       "    <tr>\n",
       "      <th>Status</th>\n",
       "      <td>. . . . . . . . . . . . . . . . . .</td>\n",
       "      <td>Tuning Hyperparameters</td>\n",
       "    </tr>\n",
       "    <tr>\n",
       "      <th>ETC</th>\n",
       "      <td>. . . . . . . . . . . . . . . . . .</td>\n",
       "      <td>Calculating ETC</td>\n",
       "    </tr>\n",
       "  </tbody>\n",
       "</table>\n",
       "</div>"
      ],
      "text/plain": [
       "                                                                      \n",
       "                                                                      \n",
       "Initiated  . . . . . . . . . . . . . . . . . .                18:24:25\n",
       "Status     . . . . . . . . . . . . . . . . . .  Tuning Hyperparameters\n",
       "ETC        . . . . . . . . . . . . . . . . . .         Calculating ETC"
      ]
     },
     "metadata": {},
     "output_type": "display_data"
    },
    {
     "data": {
      "text/html": [
       "<div>\n",
       "<style scoped>\n",
       "    .dataframe tbody tr th:only-of-type {\n",
       "        vertical-align: middle;\n",
       "    }\n",
       "\n",
       "    .dataframe tbody tr th {\n",
       "        vertical-align: top;\n",
       "    }\n",
       "\n",
       "    .dataframe thead th {\n",
       "        text-align: right;\n",
       "    }\n",
       "</style>\n",
       "<table border=\"1\" class=\"dataframe\">\n",
       "  <thead>\n",
       "    <tr style=\"text-align: right;\">\n",
       "      <th></th>\n",
       "      <th>MAE</th>\n",
       "      <th>MSE</th>\n",
       "      <th>RMSE</th>\n",
       "      <th>R2</th>\n",
       "      <th>RMSLE</th>\n",
       "      <th>MAPE</th>\n",
       "    </tr>\n",
       "  </thead>\n",
       "  <tbody>\n",
       "  </tbody>\n",
       "</table>\n",
       "</div>"
      ],
      "text/plain": [
       "Empty DataFrame\n",
       "Columns: [MAE, MSE, RMSE, R2, RMSLE, MAPE]\n",
       "Index: []"
      ]
     },
     "metadata": {},
     "output_type": "display_data"
    }
   ],
   "source": [
    "knn = create_model('knn')\n",
    "tuned_knn = tune_model('knn')"
   ]
  },
  {
   "cell_type": "code",
   "execution_count": null,
   "metadata": {},
   "outputs": [],
   "source": [
    "predict_model(tuned_knn);\n",
    "final_knn = finalize_model(tuned_knn)\n",
    "save_model(final_knn,'FinalLinearRegModel')"
   ]
  },
  {
   "cell_type": "code",
   "execution_count": null,
   "metadata": {},
   "outputs": [],
   "source": []
  },
  {
   "cell_type": "code",
   "execution_count": null,
   "metadata": {},
   "outputs": [],
   "source": [
    "plot_model(tuned_knn)"
   ]
  },
  {
   "cell_type": "code",
   "execution_count": null,
   "metadata": {},
   "outputs": [],
   "source": [
    "plot_model(tuned_knn, plot='feature')"
   ]
  },
  {
   "cell_type": "code",
   "execution_count": null,
   "metadata": {},
   "outputs": [],
   "source": [
    "evaluate_model(tuned_knn)"
   ]
  },
  {
   "cell_type": "code",
   "execution_count": null,
   "metadata": {},
   "outputs": [],
   "source": [
    "interpret_model(tuned_knn)"
   ]
  },
  {
   "cell_type": "markdown",
   "metadata": {},
   "source": [
    "## Ridge"
   ]
  },
  {
   "cell_type": "code",
   "execution_count": null,
   "metadata": {},
   "outputs": [],
   "source": [
    "ridge = create_model('ridge')\n",
    "tuned_ridge = tune_model('ridge')"
   ]
  },
  {
   "cell_type": "code",
   "execution_count": null,
   "metadata": {},
   "outputs": [],
   "source": [
    "predict_model(tuned_ridge);\n",
    "final_ridge = finalize_model(tuned_ridge)\n",
    "save_model(final_ridge,'FinalridgeModel')"
   ]
  },
  {
   "cell_type": "code",
   "execution_count": null,
   "metadata": {},
   "outputs": [],
   "source": []
  },
  {
   "cell_type": "code",
   "execution_count": null,
   "metadata": {},
   "outputs": [],
   "source": []
  },
  {
   "cell_type": "markdown",
   "metadata": {},
   "source": [
    "## lasso"
   ]
  },
  {
   "cell_type": "code",
   "execution_count": null,
   "metadata": {},
   "outputs": [],
   "source": [
    "lasso = create_model('lasso')\n",
    "tuned_lasso = tune_model('lasso')"
   ]
  },
  {
   "cell_type": "code",
   "execution_count": null,
   "metadata": {},
   "outputs": [],
   "source": [
    "predict_model(tuned_lasso);\n",
    "final_ridge = finalize_model(tuned_lasso)\n",
    "save_model(final_lasso,'FinallassoModel')"
   ]
  },
  {
   "cell_type": "code",
   "execution_count": null,
   "metadata": {},
   "outputs": [],
   "source": []
  },
  {
   "cell_type": "markdown",
   "metadata": {},
   "source": [
    "## least angle reg"
   ]
  },
  {
   "cell_type": "code",
   "execution_count": null,
   "metadata": {},
   "outputs": [],
   "source": [
    "lar = create_model('lar')\n",
    "tuned_lar = tune_model('lar')"
   ]
  },
  {
   "cell_type": "code",
   "execution_count": null,
   "metadata": {},
   "outputs": [],
   "source": [
    "predict_model(tuned_lar);\n",
    "final_lar = finalize_model(tuned_lar)\n",
    "save_model(final_lar,'FinallarModel')"
   ]
  },
  {
   "cell_type": "code",
   "execution_count": null,
   "metadata": {},
   "outputs": [],
   "source": []
  },
  {
   "cell_type": "markdown",
   "metadata": {},
   "source": [
    "## bayesian ridge"
   ]
  },
  {
   "cell_type": "code",
   "execution_count": null,
   "metadata": {},
   "outputs": [],
   "source": [
    "br = create_model('br')\n",
    "tuned_br = tune_model('br')"
   ]
  },
  {
   "cell_type": "code",
   "execution_count": null,
   "metadata": {},
   "outputs": [],
   "source": [
    "predict_model(tuned_br);\n",
    "final_br = finalize_model(tuned_br)\n",
    "save_model(final_br,'FinalbrModel')"
   ]
  },
  {
   "cell_type": "code",
   "execution_count": null,
   "metadata": {},
   "outputs": [],
   "source": []
  },
  {
   "cell_type": "markdown",
   "metadata": {},
   "source": [
    "## model blending"
   ]
  },
  {
   "cell_type": "code",
   "execution_count": null,
   "metadata": {},
   "outputs": [],
   "source": [
    "blend_specific1 = blend_models(estimator_list = [lr,br,knn])"
   ]
  },
  {
   "cell_type": "code",
   "execution_count": null,
   "metadata": {},
   "outputs": [],
   "source": [
    "blend_specific2 = blend_models(estimator_list = [lar,lasso,lr])"
   ]
  },
  {
   "cell_type": "code",
   "execution_count": null,
   "metadata": {},
   "outputs": [],
   "source": []
  },
  {
   "cell_type": "markdown",
   "metadata": {},
   "source": [
    "## stacking"
   ]
  },
  {
   "cell_type": "code",
   "execution_count": null,
   "metadata": {},
   "outputs": [],
   "source": []
  },
  {
   "cell_type": "code",
   "execution_count": null,
   "metadata": {},
   "outputs": [],
   "source": [
    "stack_1 = stack_models([lr,br,knn])"
   ]
  },
  {
   "cell_type": "code",
   "execution_count": null,
   "metadata": {},
   "outputs": [],
   "source": [
    "stack_2 = stack_models([lar,lasso,lr])"
   ]
  },
  {
   "cell_type": "code",
   "execution_count": null,
   "metadata": {},
   "outputs": [],
   "source": []
  },
  {
   "cell_type": "code",
   "execution_count": null,
   "metadata": {},
   "outputs": [],
   "source": [
    "# final_stack = finalize_model(stack)\n",
    "# save_model(final_stack,'FinalStackModel')"
   ]
  },
  {
   "cell_type": "code",
   "execution_count": null,
   "metadata": {},
   "outputs": [],
   "source": []
  },
  {
   "cell_type": "markdown",
   "metadata": {},
   "source": [
    "## stacknet "
   ]
  },
  {
   "cell_type": "code",
   "execution_count": null,
   "metadata": {},
   "outputs": [],
   "source": [
    "stacknet = create_stacknet(estimator_list =[[lr,br,knn],[lar,lasso,lr]])"
   ]
  },
  {
   "cell_type": "code",
   "execution_count": null,
   "metadata": {},
   "outputs": [],
   "source": [
    "# final_stacknet = finalize_model(stacknet)\n",
    "# save_model(final_stacknet,'FinalStacknetModel')"
   ]
  },
  {
   "cell_type": "code",
   "execution_count": null,
   "metadata": {},
   "outputs": [],
   "source": []
  },
  {
   "cell_type": "code",
   "execution_count": null,
   "metadata": {},
   "outputs": [],
   "source": [
    "save_experiment('Experiment_123 2June1830')"
   ]
  },
  {
   "cell_type": "code",
   "execution_count": null,
   "metadata": {},
   "outputs": [],
   "source": []
  },
  {
   "cell_type": "code",
   "execution_count": null,
   "metadata": {},
   "outputs": [],
   "source": [
    "#saved_experiment = load_experiment('Experiment_123 ****')\n",
    "#saved_lr = load_model('lr')"
   ]
  }
 ],
 "metadata": {
  "kernelspec": {
   "display_name": "Python 3",
   "language": "python",
   "name": "python3"
  },
  "language_info": {
   "codemirror_mode": {
    "name": "ipython",
    "version": 3
   },
   "file_extension": ".py",
   "mimetype": "text/x-python",
   "name": "python",
   "nbconvert_exporter": "python",
   "pygments_lexer": "ipython3",
   "version": "3.6.9"
  }
 },
 "nbformat": 4,
 "nbformat_minor": 4
}
